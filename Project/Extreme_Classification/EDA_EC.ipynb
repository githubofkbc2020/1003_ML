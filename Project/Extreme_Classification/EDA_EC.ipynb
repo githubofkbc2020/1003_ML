{
 "cells": [
  {
   "cell_type": "code",
   "execution_count": 3,
   "metadata": {},
   "outputs": [],
   "source": [
    "import re\n",
    "import argparse\n",
    "import os\n",
    "import shutil\n",
    "import time\n",
    "import math\n",
    "import pickle\n",
    "import pdb\n",
    "import pickle\n",
    "import numpy as np\n",
    "import pandas as pd"
   ]
  },
  {
   "cell_type": "code",
   "execution_count": 7,
   "metadata": {},
   "outputs": [],
   "source": [
    "train = pd.read_csv('train.csv')\n",
    "dev = pd.read_csv('test.csv')"
   ]
  },
  {
   "cell_type": "code",
   "execution_count": 26,
   "metadata": {},
   "outputs": [
    {
     "data": {
      "text/html": [
       "<div>\n",
       "<style scoped>\n",
       "    .dataframe tbody tr th:only-of-type {\n",
       "        vertical-align: middle;\n",
       "    }\n",
       "\n",
       "    .dataframe tbody tr th {\n",
       "        vertical-align: top;\n",
       "    }\n",
       "\n",
       "    .dataframe thead th {\n",
       "        text-align: right;\n",
       "    }\n",
       "</style>\n",
       "<table border=\"1\" class=\"dataframe\">\n",
       "  <thead>\n",
       "    <tr style=\"text-align: right;\">\n",
       "      <th></th>\n",
       "      <th>ex_id</th>\n",
       "      <th>labels</th>\n",
       "      <th>features</th>\n",
       "    </tr>\n",
       "  </thead>\n",
       "  <tbody>\n",
       "    <tr>\n",
       "      <th>0</th>\n",
       "      <td>0</td>\n",
       "      <td>3,4,52,260,518,992,1543</td>\n",
       "      <td>0:0.101468 1:0.554374 2:0.235760 3:0.065255 8:...</td>\n",
       "    </tr>\n",
       "    <tr>\n",
       "      <th>1</th>\n",
       "      <td>1</td>\n",
       "      <td>531,682,685,687,688</td>\n",
       "      <td>0:0.050734 1:0.103945 2:0.330063 3:0.130509 4:...</td>\n",
       "    </tr>\n",
       "    <tr>\n",
       "      <th>2</th>\n",
       "      <td>2</td>\n",
       "      <td>399,600,693,936,1231,1310</td>\n",
       "      <td>0:0.084556 1:0.866210 2:0.330063 3:0.326274 4:...</td>\n",
       "    </tr>\n",
       "    <tr>\n",
       "      <th>3</th>\n",
       "      <td>4</td>\n",
       "      <td>317,532,651,681,682,686,726</td>\n",
       "      <td>0:0.084556 1:0.138594 2:0.141456 3:0.130509 4:...</td>\n",
       "    </tr>\n",
       "    <tr>\n",
       "      <th>4</th>\n",
       "      <td>5</td>\n",
       "      <td>3,308,430,480,540,840</td>\n",
       "      <td>0:0.067645 1:0.242539 2:0.094304 3:0.065255 4:...</td>\n",
       "    </tr>\n",
       "  </tbody>\n",
       "</table>\n",
       "</div>"
      ],
      "text/plain": [
       "   ex_id                       labels  \\\n",
       "0      0      3,4,52,260,518,992,1543   \n",
       "1      1          531,682,685,687,688   \n",
       "2      2    399,600,693,936,1231,1310   \n",
       "3      4  317,532,651,681,682,686,726   \n",
       "4      5        3,308,430,480,540,840   \n",
       "\n",
       "                                            features  \n",
       "0  0:0.101468 1:0.554374 2:0.235760 3:0.065255 8:...  \n",
       "1  0:0.050734 1:0.103945 2:0.330063 3:0.130509 4:...  \n",
       "2  0:0.084556 1:0.866210 2:0.330063 3:0.326274 4:...  \n",
       "3  0:0.084556 1:0.138594 2:0.141456 3:0.130509 4:...  \n",
       "4  0:0.067645 1:0.242539 2:0.094304 3:0.065255 4:...  "
      ]
     },
     "execution_count": 26,
     "metadata": {},
     "output_type": "execute_result"
    }
   ],
   "source": [
    "dev.head()"
   ]
  }
 ],
 "metadata": {
  "kernelspec": {
   "display_name": "Python 3",
   "language": "python",
   "name": "python3"
  },
  "language_info": {
   "codemirror_mode": {
    "name": "ipython",
    "version": 3
   },
   "file_extension": ".py",
   "mimetype": "text/x-python",
   "name": "python",
   "nbconvert_exporter": "python",
   "pygments_lexer": "ipython3",
   "version": "3.7.3"
  }
 },
 "nbformat": 4,
 "nbformat_minor": 4
}
